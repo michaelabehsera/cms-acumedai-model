{
 "cells": [
  {
   "cell_type": "markdown",
   "metadata": {},
   "source": [
    "# Approach"
   ]
  },
  {
   "cell_type": "markdown",
   "metadata": {},
   "source": [
    "1. Compute pareto on code occurences - do manually for now - DONE\n",
    "2. Generate lookup list based on top 80% - do manually for now - DONE\n",
    "3. Replace codes with lookups in original categorical columns in claims file - DONE\n",
    "4. Use pd.get_dummies to generate ohe columns - DONE (if then else loops)\n",
    "5. Generate month, week, dayof month, day of week for - DONE\n",
    "    - Claim start date\n",
    "    - Claim end date\n",
    "6. Compute derived variables - DONE\n",
    "   - age bands - DONE\n",
    "   - claim duration - already available\n",
    "   - Lag Days - cannot \n",
    "5. Concatenate Beneficiary info - DONE\n",
    "6. Consider mapping DX codes to HCC conditions to reduce sparseness\n",
    "7. Drop columns - DONE IN EXCLUDE COLUMNS\n",
    "    - SP_ columns\n",
    "    - yearly sums\n",
    "8. Figure out the proc string issue - \n",
    "9. Identify KPI transformations and replace nulls with medians - DONE\n",
    "   - compute logs of KPIs\n",
    "\n",
    "Outstanding\n",
    "1. ...only read code values as str in read_csv of input datafile!!!!!\n",
    "\n",
    "Later...\n",
    "1. switch to outpatient\n",
    "2. Replace DRG CD with ohe\n",
    "3. Purchase actual CMS files for recent years if possible...say 10K records"
   ]
  },
  {
   "cell_type": "markdown",
   "metadata": {},
   "source": [
    "# Columns info\n",
    "- **CLM_ID: Claim ID**\n",
    "- **DESYNPUF_ID:** Beneficiary Code\n",
    "It's the identifier of the patient. Could be multiple claims per patient. \n",
    "- **SEGMENT:** Claim Line Segment. Drop.\n",
    "- **CLM_FROM_DT:** Claims start date\n",
    "- **CLM_THRU_DT:** Claims end date\n",
    "- **PRVDR_NUM:** Provider Institution. Company who made the claim (hospital).\n",
    "- **CLM_PMT_AMT:** Claim Payment Amount.\n",
    "- **NCH_PRMRY_PYR_CLM_PD_AMT:** NCH Primary Payer Claim Paid Amount. One of the KPI's.\n",
    "- **AT_PHYSN_NPI:** Attending Physician (physician who made the claim).\n",
    "- **OP_PHYSN_NPI:** Operating Physician – National Provider Identifier Number.\n",
    "- **OT_PHYSN_NPI:** Other Physician – National Provider Identifier Number.\n",
    "- **CLM_ADMSN_DT:** Inpatient admission date.\n",
    "- **ADMTNG_ICD9_DGNS_CD:**  Claim Admitting Diagnosis Code. Drop (in clustering)\n",
    "- **CLM_PASS_THRU_PER_DIEM_AMT:** Claim Pass Thru Per Diem Amount\n",
    "The amount of the established reimbursable costs for the current year divided by the estimated Medicare\n",
    "days for the current year (all PPS claims), as calculated by the FI and reimbursement staff. Items\n",
    "reimbursed as a pass through include capital–related costs; direct medical education costs; kidney\n",
    "acquisition costs for hospitals approved as RTCs; and bad debts (per Provider Reimbursement Manual,\n",
    "Part 1, Section 2405.2). Note: Pass through are not included in the Claim Payment Amount. \n",
    "- **NCH_BENE_IP_DDCTBL_AMT:** NCH Beneficiary Inpatient Deductible Amount\n",
    "The amount of the deductible the beneficiary paid for inpatient services, as originally submitted on the\n",
    "institutional claim. \n",
    "- **NCH_BENE_PTA_COINSRNC_LBLTY_AM:** NCH Beneficiary Part A Coinsurance Liability Amount\n",
    "The amount of money for which the intermediary has determined that the beneficiary is liable for Part A\n",
    "coinsurance on the institutional claim. \n",
    "- **CLM_UTLZTN_DAY_CNT:** Claim Utilization Day Count. \n",
    "On an institutional claim, the number of covered days of care that are chargeable to Medicare facility\n",
    "utilization that includes full days, coinsurance days, and lifetime reserve days. It excludes any days\n",
    "classified as non–covered, leave of absence days, and the day of discharge or death.\n",
    "- **NCH_BENE_DSCHRG_DT:** Inpatient discharged date. \n",
    "Effective with Version H, on an inpatient and HHA claim, the date the beneficiary was discharged from\n",
    "the facility or died (used for internal CWFMQA editing purposes.) \n",
    "- **CLM_DRG_CD:** Claim Diagnosis Related Group Code.\n",
    "- **ICD9_DGNS_CD_1:** Line Diagnosis Code 1. For every claim in order to justify the claim the physician has to say the patient has been dignosed with the following conditions. I did the following procedures (1-10).\n",
    "- **ICD9_DGNS_CD_2:** ???\n",
    "- **ICD9_DGNS_CD_3:** ???\n",
    "- **ICD9_DGNS_CD_4:** ???\n",
    "- **ICD9_DGNS_CD_5:** ???\n",
    "- **ICD9_DGNS_CD_6:** ???\n",
    "- **ICD9_DGNS_CD_7:** ???\n",
    "- **ICD9_DGNS_CD_8:** Claim Diagnosis Code 8\n",
    "- **ICD9_DGNS_CD_9:** Diagonisis\n",
    "- **ICD9_DGNS_CD_10:** Claim Diagnosis Code 10. Representing different conditions. \n",
    "- **ICD9_PRCDR_CD_1:** Procedure.\n",
    "- **ICD9_PRCDR_CD_2:** ???\n",
    "- **ICD9_PRCDR_CD_3:** ???\n",
    "- **ICD9_PRCDR_CD_5:** ???\n",
    "- **ICD9_PRCDR_CD_6:** Claim Procedure Code 6"
   ]
  },
  {
   "cell_type": "markdown",
   "metadata": {},
   "source": [
    "# Using the following columns (for clustering)\n",
    "- NCH_BENE_DSCHRG_DT. Inpatient discharged date. Effective with Version H, on an inpatient and HHA claim, the date the beneficiary was discharged from the facility or died (used for internal CWFMQA editing purposes.)\n",
    "- NCH_PRMRY_PYR_CLM_PD_AMT: NCH Primary Payer Claim Paid Amount. One of the KPI's.\n",
    "- CLM_FROM_DT: Claims start date\n",
    "- CLM_THRU_DT: Claims end date\n",
    "- CLM_ADMSN_DT: Inpatient admission date.\n",
    "- PRVDR_NUM: Provider Institution. Company who made the claim (hospital).\n",
    "- AT_PHYSN_NPI: Attending Physician (physician who made the claim).\n",
    "- OP_PHYSN_NPI: Operating Physician – National Provider Identifier Number.\n",
    "- ICD9_DGNS_CD_1\n",
    "- ICD9_DGNS_CD_2\n",
    "- ICD9_DGNS_CD_3\n",
    "- ICD9_DGNS_CD_4\n",
    "- ICD9_DGNS_CD_5\n",
    "- ICD9_DGNS_CD_6\n",
    "- ICD9_DGNS_CD_7\n",
    "- ICD9_DGNS_CD_8\n",
    "- ICD9_DGNS_CD_9\n",
    "- ICD9_DGNS_CD_10"
   ]
  },
  {
   "cell_type": "code",
   "execution_count": 1,
   "metadata": {},
   "outputs": [
    {
     "name": "stdout",
     "output_type": "stream",
     "text": [
      "Collecting missingno\n",
      "  Downloading https://files.pythonhosted.org/packages/57/eb/9d7d55ceec57e0e374e70e9ad8d16795ba91960a3c987f3b5ee71d3e8e4d/missingno-0.4.1-py3-none-any.whl\n",
      "Requirement already satisfied: numpy in /usr/local/lib/python3.6/site-packages (from missingno) (1.14.5)\n",
      "Requirement already satisfied: scipy in /usr/local/lib/python3.6/site-packages (from missingno) (1.1.0)\n",
      "Requirement already satisfied: matplotlib in /usr/local/lib/python3.6/site-packages (from missingno) (2.2.3)\n",
      "Requirement already satisfied: seaborn in /usr/local/lib/python3.6/site-packages (from missingno) (0.9.0)\n",
      "Requirement already satisfied: kiwisolver>=1.0.1 in /usr/local/lib/python3.6/site-packages (from matplotlib->missingno) (1.0.1)\n",
      "Requirement already satisfied: pyparsing!=2.0.4,!=2.1.2,!=2.1.6,>=2.0.1 in /usr/local/lib/python3.6/site-packages (from matplotlib->missingno) (2.2.0)\n",
      "Requirement already satisfied: pytz in /usr/local/lib/python3.6/site-packages (from matplotlib->missingno) (2018.5)\n",
      "Requirement already satisfied: python-dateutil>=2.1 in /usr/local/lib/python3.6/site-packages (from matplotlib->missingno) (2.7.3)\n",
      "Requirement already satisfied: cycler>=0.10 in /usr/local/lib/python3.6/site-packages (from matplotlib->missingno) (0.10.0)\n",
      "Requirement already satisfied: six>=1.10 in /usr/local/lib/python3.6/site-packages (from matplotlib->missingno) (1.11.0)\n",
      "Requirement already satisfied: pandas>=0.15.2 in /usr/local/lib/python3.6/site-packages (from seaborn->missingno) (0.23.4)\n",
      "Requirement already satisfied: setuptools in /usr/local/lib/python3.6/site-packages (from kiwisolver>=1.0.1->matplotlib->missingno) (39.1.0)\n",
      "\u001b[31mmenpo 0.8.1 has requirement matplotlib<2.0,>=1.4, but you'll have matplotlib 2.2.3 which is incompatible.\u001b[0m\n",
      "\u001b[31mmenpo 0.8.1 has requirement pillow<5.0,>=3.0, but you'll have pillow 5.2.0 which is incompatible.\u001b[0m\n",
      "\u001b[31mmenpo 0.8.1 has requirement scipy<1.0,>=0.16, but you'll have scipy 1.1.0 which is incompatible.\u001b[0m\n",
      "Installing collected packages: missingno\n",
      "Successfully installed missingno-0.4.1\n",
      "\u001b[33mYou are using pip version 10.0.1, however version 18.1 is available.\n",
      "You should consider upgrading via the 'pip install --upgrade pip' command.\u001b[0m\n"
     ]
    }
   ],
   "source": [
    "!pip install missingno"
   ]
  },
  {
   "cell_type": "code",
   "execution_count": 2,
   "metadata": {},
   "outputs": [],
   "source": [
    "# Imports\n",
    "import pandas as pd\n",
    "pd.set_option('display.max_rows', 1000)\n",
    "pd.set_option('display.max_columns', 500)\n",
    "pd.set_option('display.width', 1000)\n",
    "import seaborn as sns\n",
    "import missingno as msno\n",
    "import matplotlib.pyplot as plt\n",
    "plt.style.use('ggplot')\n",
    "#Plot styling/configurations \n",
    "%matplotlib inline\n",
    "%config InlineBackend.figure_format = 'retina'\n",
    "plt.rcParams['figure.figsize'] = 14,8\n",
    "plt.rcParams['axes.facecolor']='white'\n",
    "plt.rcParams.update({'font.size': 13})\n",
    "import warnings\n",
    "warnings.filterwarnings('ignore')\n",
    "seq_col_brew = sns.color_palette(\"YlGnBu_r\", 4)\n",
    "sns.set_palette(seq_col_brew)\n",
    "from __future__ import division, print_function, unicode_literals\n",
    "from datetime import datetime\n",
    "import numpy as np\n",
    "import os\n",
    "from IPython.core.interactiveshell import InteractiveShell\n",
    "InteractiveShell.ast_node_interactivity = \"all\""
   ]
  },
  {
   "cell_type": "code",
   "execution_count": 3,
   "metadata": {
    "scrolled": true
   },
   "outputs": [],
   "source": [
    "data = pd.read_csv('DE1_0_2008_to_2010_Inpatient_Claims_NoHCPCS_Sample_1.csv', dtype=str)"
   ]
  },
  {
   "cell_type": "code",
   "execution_count": 4,
   "metadata": {},
   "outputs": [],
   "source": [
    "data.drop(data[['CLM_ID', 'SEGMENT', 'ADMTNG_ICD9_DGNS_CD', 'DESYNPUF_ID']], axis = 1, inplace = True)"
   ]
  },
  {
   "cell_type": "code",
   "execution_count": 5,
   "metadata": {},
   "outputs": [
    {
     "data": {
      "text/plain": [
       "pandas.core.frame.DataFrame"
      ]
     },
     "execution_count": 5,
     "metadata": {},
     "output_type": "execute_result"
    }
   ],
   "source": [
    "type(data)"
   ]
  },
  {
   "cell_type": "code",
   "execution_count": 6,
   "metadata": {},
   "outputs": [
    {
     "data": {
      "text/html": [
       "<div>\n",
       "<style scoped>\n",
       "    .dataframe tbody tr th:only-of-type {\n",
       "        vertical-align: middle;\n",
       "    }\n",
       "\n",
       "    .dataframe tbody tr th {\n",
       "        vertical-align: top;\n",
       "    }\n",
       "\n",
       "    .dataframe thead th {\n",
       "        text-align: right;\n",
       "    }\n",
       "</style>\n",
       "<table border=\"1\" class=\"dataframe\">\n",
       "  <thead>\n",
       "    <tr style=\"text-align: right;\">\n",
       "      <th></th>\n",
       "      <th>CLM_FROM_DT</th>\n",
       "      <th>CLM_THRU_DT</th>\n",
       "      <th>PRVDR_NUM</th>\n",
       "      <th>CLM_PMT_AMT</th>\n",
       "      <th>NCH_PRMRY_PYR_CLM_PD_AMT</th>\n",
       "      <th>AT_PHYSN_NPI</th>\n",
       "      <th>OP_PHYSN_NPI</th>\n",
       "      <th>OT_PHYSN_NPI</th>\n",
       "      <th>CLM_ADMSN_DT</th>\n",
       "      <th>CLM_PASS_THRU_PER_DIEM_AMT</th>\n",
       "      <th>NCH_BENE_IP_DDCTBL_AMT</th>\n",
       "      <th>NCH_BENE_PTA_COINSRNC_LBLTY_AM</th>\n",
       "      <th>NCH_BENE_BLOOD_DDCTBL_LBLTY_AM</th>\n",
       "      <th>CLM_UTLZTN_DAY_CNT</th>\n",
       "      <th>NCH_BENE_DSCHRG_DT</th>\n",
       "      <th>CLM_DRG_CD</th>\n",
       "      <th>ICD9_DGNS_CD_1</th>\n",
       "      <th>ICD9_DGNS_CD_2</th>\n",
       "      <th>ICD9_DGNS_CD_3</th>\n",
       "      <th>ICD9_DGNS_CD_4</th>\n",
       "      <th>ICD9_DGNS_CD_5</th>\n",
       "      <th>ICD9_DGNS_CD_6</th>\n",
       "      <th>ICD9_DGNS_CD_7</th>\n",
       "      <th>ICD9_DGNS_CD_8</th>\n",
       "      <th>ICD9_DGNS_CD_9</th>\n",
       "      <th>ICD9_DGNS_CD_10</th>\n",
       "      <th>ICD9_PRCDR_CD_1</th>\n",
       "      <th>ICD9_PRCDR_CD_2</th>\n",
       "      <th>ICD9_PRCDR_CD_3</th>\n",
       "      <th>ICD9_PRCDR_CD_4</th>\n",
       "      <th>ICD9_PRCDR_CD_5</th>\n",
       "      <th>ICD9_PRCDR_CD_6</th>\n",
       "    </tr>\n",
       "  </thead>\n",
       "  <tbody>\n",
       "    <tr>\n",
       "      <th>0</th>\n",
       "      <td>20100312</td>\n",
       "      <td>20100313</td>\n",
       "      <td>2600GD</td>\n",
       "      <td>4000</td>\n",
       "      <td>0</td>\n",
       "      <td>3139083564</td>\n",
       "      <td>NaN</td>\n",
       "      <td>NaN</td>\n",
       "      <td>20100312</td>\n",
       "      <td>0</td>\n",
       "      <td>1100</td>\n",
       "      <td>0</td>\n",
       "      <td>0</td>\n",
       "      <td>1</td>\n",
       "      <td>20100313</td>\n",
       "      <td>217</td>\n",
       "      <td>7802</td>\n",
       "      <td>78820</td>\n",
       "      <td>V4501</td>\n",
       "      <td>4280</td>\n",
       "      <td>2720</td>\n",
       "      <td>4019</td>\n",
       "      <td>V4502</td>\n",
       "      <td>73300</td>\n",
       "      <td>E9330</td>\n",
       "      <td>NaN</td>\n",
       "      <td>NaN</td>\n",
       "      <td>NaN</td>\n",
       "      <td>NaN</td>\n",
       "      <td>NaN</td>\n",
       "      <td>NaN</td>\n",
       "      <td>NaN</td>\n",
       "    </tr>\n",
       "    <tr>\n",
       "      <th>1</th>\n",
       "      <td>20090412</td>\n",
       "      <td>20090418</td>\n",
       "      <td>3900MB</td>\n",
       "      <td>26000</td>\n",
       "      <td>0</td>\n",
       "      <td>6476809087</td>\n",
       "      <td>NaN</td>\n",
       "      <td>NaN</td>\n",
       "      <td>20090412</td>\n",
       "      <td>0</td>\n",
       "      <td>1068</td>\n",
       "      <td>0</td>\n",
       "      <td>0</td>\n",
       "      <td>6</td>\n",
       "      <td>20090418</td>\n",
       "      <td>201</td>\n",
       "      <td>1970</td>\n",
       "      <td>4019</td>\n",
       "      <td>5853</td>\n",
       "      <td>7843</td>\n",
       "      <td>2768</td>\n",
       "      <td>71590</td>\n",
       "      <td>2724</td>\n",
       "      <td>19889</td>\n",
       "      <td>5849</td>\n",
       "      <td>NaN</td>\n",
       "      <td>NaN</td>\n",
       "      <td>NaN</td>\n",
       "      <td>NaN</td>\n",
       "      <td>NaN</td>\n",
       "      <td>NaN</td>\n",
       "      <td>NaN</td>\n",
       "    </tr>\n",
       "    <tr>\n",
       "      <th>2</th>\n",
       "      <td>20090831</td>\n",
       "      <td>20090902</td>\n",
       "      <td>3900HM</td>\n",
       "      <td>5000</td>\n",
       "      <td>0</td>\n",
       "      <td>611998537</td>\n",
       "      <td>611998537</td>\n",
       "      <td>NaN</td>\n",
       "      <td>20090831</td>\n",
       "      <td>0</td>\n",
       "      <td>1068</td>\n",
       "      <td>0</td>\n",
       "      <td>0</td>\n",
       "      <td>2</td>\n",
       "      <td>20090902</td>\n",
       "      <td>750</td>\n",
       "      <td>6186</td>\n",
       "      <td>2948</td>\n",
       "      <td>56400</td>\n",
       "      <td>NaN</td>\n",
       "      <td>NaN</td>\n",
       "      <td>NaN</td>\n",
       "      <td>NaN</td>\n",
       "      <td>NaN</td>\n",
       "      <td>NaN</td>\n",
       "      <td>NaN</td>\n",
       "      <td>7092</td>\n",
       "      <td>6186</td>\n",
       "      <td>V5866</td>\n",
       "      <td>NaN</td>\n",
       "      <td>NaN</td>\n",
       "      <td>NaN</td>\n",
       "    </tr>\n",
       "    <tr>\n",
       "      <th>3</th>\n",
       "      <td>20090917</td>\n",
       "      <td>20090920</td>\n",
       "      <td>3913XU</td>\n",
       "      <td>5000</td>\n",
       "      <td>0</td>\n",
       "      <td>4971602784</td>\n",
       "      <td>NaN</td>\n",
       "      <td>1119000316</td>\n",
       "      <td>20090917</td>\n",
       "      <td>0</td>\n",
       "      <td>1068</td>\n",
       "      <td>0</td>\n",
       "      <td>0</td>\n",
       "      <td>3</td>\n",
       "      <td>20090920</td>\n",
       "      <td>883</td>\n",
       "      <td>29623</td>\n",
       "      <td>30390</td>\n",
       "      <td>71690</td>\n",
       "      <td>34590</td>\n",
       "      <td>V1581</td>\n",
       "      <td>32723</td>\n",
       "      <td>NaN</td>\n",
       "      <td>NaN</td>\n",
       "      <td>NaN</td>\n",
       "      <td>NaN</td>\n",
       "      <td>NaN</td>\n",
       "      <td>NaN</td>\n",
       "      <td>NaN</td>\n",
       "      <td>NaN</td>\n",
       "      <td>NaN</td>\n",
       "      <td>NaN</td>\n",
       "    </tr>\n",
       "    <tr>\n",
       "      <th>4</th>\n",
       "      <td>20100626</td>\n",
       "      <td>20100701</td>\n",
       "      <td>3900MB</td>\n",
       "      <td>16000</td>\n",
       "      <td>0</td>\n",
       "      <td>6408400473</td>\n",
       "      <td>1960859579</td>\n",
       "      <td>NaN</td>\n",
       "      <td>20100626</td>\n",
       "      <td>0</td>\n",
       "      <td>1100</td>\n",
       "      <td>0</td>\n",
       "      <td>0</td>\n",
       "      <td>5</td>\n",
       "      <td>20100701</td>\n",
       "      <td>983</td>\n",
       "      <td>3569</td>\n",
       "      <td>4019</td>\n",
       "      <td>3542</td>\n",
       "      <td>V8801</td>\n",
       "      <td>78820</td>\n",
       "      <td>2639</td>\n",
       "      <td>7840</td>\n",
       "      <td>7856</td>\n",
       "      <td>4271</td>\n",
       "      <td>NaN</td>\n",
       "      <td>NaN</td>\n",
       "      <td>E8889</td>\n",
       "      <td>NaN</td>\n",
       "      <td>NaN</td>\n",
       "      <td>NaN</td>\n",
       "      <td>NaN</td>\n",
       "    </tr>\n",
       "  </tbody>\n",
       "</table>\n",
       "</div>"
      ],
      "text/plain": [
       "  CLM_FROM_DT CLM_THRU_DT PRVDR_NUM CLM_PMT_AMT NCH_PRMRY_PYR_CLM_PD_AMT AT_PHYSN_NPI OP_PHYSN_NPI OT_PHYSN_NPI CLM_ADMSN_DT CLM_PASS_THRU_PER_DIEM_AMT NCH_BENE_IP_DDCTBL_AMT NCH_BENE_PTA_COINSRNC_LBLTY_AM NCH_BENE_BLOOD_DDCTBL_LBLTY_AM CLM_UTLZTN_DAY_CNT NCH_BENE_DSCHRG_DT CLM_DRG_CD ICD9_DGNS_CD_1 ICD9_DGNS_CD_2 ICD9_DGNS_CD_3 ICD9_DGNS_CD_4 ICD9_DGNS_CD_5 ICD9_DGNS_CD_6 ICD9_DGNS_CD_7 ICD9_DGNS_CD_8 ICD9_DGNS_CD_9 ICD9_DGNS_CD_10 ICD9_PRCDR_CD_1 ICD9_PRCDR_CD_2 ICD9_PRCDR_CD_3 ICD9_PRCDR_CD_4 ICD9_PRCDR_CD_5 ICD9_PRCDR_CD_6\n",
       "0    20100312    20100313    2600GD        4000                        0   3139083564          NaN          NaN     20100312                          0                   1100                              0                              0                  1           20100313        217           7802          78820          V4501           4280           2720           4019          V4502          73300          E9330             NaN             NaN             NaN             NaN             NaN             NaN             NaN\n",
       "1    20090412    20090418    3900MB       26000                        0   6476809087          NaN          NaN     20090412                          0                   1068                              0                              0                  6           20090418        201           1970           4019           5853           7843           2768          71590           2724          19889           5849             NaN             NaN             NaN             NaN             NaN             NaN             NaN\n",
       "2    20090831    20090902    3900HM        5000                        0    611998537    611998537          NaN     20090831                          0                   1068                              0                              0                  2           20090902        750           6186           2948          56400            NaN            NaN            NaN            NaN            NaN            NaN             NaN            7092            6186           V5866             NaN             NaN             NaN\n",
       "3    20090917    20090920    3913XU        5000                        0   4971602784          NaN   1119000316     20090917                          0                   1068                              0                              0                  3           20090920        883          29623          30390          71690          34590          V1581          32723            NaN            NaN            NaN             NaN             NaN             NaN             NaN             NaN             NaN             NaN\n",
       "4    20100626    20100701    3900MB       16000                        0   6408400473   1960859579          NaN     20100626                          0                   1100                              0                              0                  5           20100701        983           3569           4019           3542          V8801          78820           2639           7840           7856           4271             NaN             NaN           E8889             NaN             NaN             NaN             NaN"
      ]
     },
     "execution_count": 6,
     "metadata": {},
     "output_type": "execute_result"
    }
   ],
   "source": [
    "data.head()"
   ]
  },
  {
   "cell_type": "code",
   "execution_count": 7,
   "metadata": {},
   "outputs": [
    {
     "data": {
      "text/plain": [
       "(44992, 32)"
      ]
     },
     "execution_count": 7,
     "metadata": {},
     "output_type": "execute_result"
    }
   ],
   "source": [
    "data.shape"
   ]
  },
  {
   "cell_type": "markdown",
   "metadata": {},
   "source": [
    "# Basic Analysis"
   ]
  },
  {
   "cell_type": "code",
   "execution_count": 8,
   "metadata": {},
   "outputs": [
    {
     "data": {
      "text/plain": [
       "<matplotlib.axes._subplots.AxesSubplot at 0x7fd22f763cc0>"
      ]
     },
     "execution_count": 8,
     "metadata": {},
     "output_type": "execute_result"
    },
    {
     "data": {
      "image/png": "[encoded data removed]",
      "text/plain": [
       "<Figure size 1728x720 with 3 Axes>"
      ]
     },
     "metadata": {
      "image/png": {
       "height": 852,
       "width": 1485
      }
     },
     "output_type": "display_data"
    }
   ],
   "source": [
    "msno.bar(data)\n",
    "plt.show()"
   ]
  },
  {
   "cell_type": "markdown",
   "metadata": {},
   "source": [
    "# Feature Engineering Plan\n",
    "CLM_FROM_DT - turn into date\n",
    "\n",
    "\n",
    "CLM_THRU_DT - turn into date\n",
    "\n",
    "\n",
    "PRVDR_NUM - categorical (2572 unique)\n",
    "\n",
    "\n",
    "CLM_PMT_AMT - keep the same\n",
    "\n",
    "\n",
    "NCH_PRMRY_PYR_CLM_PD_AMT - categorical (70 uniques)\n",
    "\n",
    "\n",
    "AT_PHYSN_NPI - categorical (13147 uniques)\n",
    "\n",
    "\n",
    "OP_PHYSN_NPI - categorical (9315 uniques)\n",
    "\n",
    "\n",
    "OT_PHYSN_NPI - categorical (3213 uniques)\n",
    "\n",
    "\n",
    "CLM_ADMSN_DT - turn into date\n",
    "\n",
    "\n",
    "CLM_PASS_THRU_PER_DIEM_AMT - categorical\n",
    "\n",
    "\n",
    "NCH_BENE_IP_DDCTBL_AMT - keep as is\n",
    "\n",
    "\n",
    "NCH_BENE_PTA_COINSRNC_LBLTY_AM - keep as is\n",
    "\n",
    "\n",
    "NCH_BENE_BLOOD_DDCTBL_LBLTY_AM - keep as is\n",
    "\n",
    "\n",
    "CLM_UTLZTN_DAY_CNT - keep as is\n",
    "\n",
    "\n",
    "NCH_BENE_DSCHRG_DT - turn to date.\n",
    "\n",
    "CLM_DRG_CD - to categorical (unique 739)\n",
    "\n",
    "\n",
    "ICD9_DGNS_CD_1 - to categorical (unique 2376)\n",
    "\n",
    "\n",
    "ICD9_DGNS_CD_2 - to categorical (unique 2612)\n",
    "\n",
    "\n",
    "ICD9_DGNS_CD_3 - to categorical (2529)\n",
    "\n",
    "\n",
    "ICD9_DGNS_CD_4 - to categorical (2566)\n",
    "\n",
    "\n",
    "ICD9_DGNS_CD_5 - to categorical (2541)\n",
    "\n",
    "\n",
    "ICD9_DGNS_CD_6 - to categorical (2501)\n",
    "\n",
    "\n",
    "ICD9_DGNS_CD_7 - to categorical (2452)\n",
    "\n",
    "\n",
    "ICD9_DGNS_CD_8 - to categorical (2346)\n",
    "\n",
    "\n",
    "ICD9_DGNS_CD_9 - to categorical (2216)\n",
    "\n",
    "\n",
    "ICD9_DGNS_CD_10 - to categorical (922)\n",
    "\n",
    "\n",
    "ICD9_PRCDR_CD_1 - to categorical (1140)\n",
    "\n",
    "\n",
    "ICD9_PRCDR_CD_2 - to categorical (1696)\n",
    "\n",
    "\n",
    "ICD9_PRCDR_CD_3 - to categorical (1413)\n",
    "\n",
    "\n",
    "ICD9_PRCDR_CD_4 - to categorical (1132)\n",
    "\n",
    "\n",
    "ICD9_PRCDR_CD_5 - to categorical (917)\n",
    "\n",
    "\n",
    "ICD9_PRCDR_CD_6 - to categorical (727)"
   ]
  },
  {
   "cell_type": "code",
   "execution_count": 9,
   "metadata": {},
   "outputs": [
    {
     "data": {
      "text/plain": [
       "727"
      ]
     },
     "execution_count": 9,
     "metadata": {},
     "output_type": "execute_result"
    }
   ],
   "source": [
    "len(data['ICD9_PRCDR_CD_6'].unique())"
   ]
  },
  {
   "cell_type": "markdown",
   "metadata": {},
   "source": [
    "# Feature Engineering"
   ]
  },
  {
   "cell_type": "markdown",
   "metadata": {},
   "source": [
    "### CLM_FROM_DT"
   ]
  },
  {
   "cell_type": "code",
   "execution_count": 10,
   "metadata": {},
   "outputs": [
    {
     "data": {
      "text/plain": [
       "47"
      ]
     },
     "execution_count": 10,
     "metadata": {},
     "output_type": "execute_result"
    }
   ],
   "source": [
    "data['CLM_FROM_DT'].isnull().sum()"
   ]
  },
  {
   "cell_type": "code",
   "execution_count": 11,
   "metadata": {},
   "outputs": [],
   "source": [
    "data['CLM_FROM_DT'].fillna(00000000, inplace=True)"
   ]
  },
  {
   "cell_type": "code",
   "execution_count": 12,
   "metadata": {},
   "outputs": [],
   "source": [
    "data['CLM_FROM_DT'] = pd.to_datetime(data['CLM_FROM_DT'])"
   ]
  },
  {
   "cell_type": "markdown",
   "metadata": {},
   "source": [
    "## CLM_THRU_DT"
   ]
  },
  {
   "cell_type": "code",
   "execution_count": 13,
   "metadata": {},
   "outputs": [],
   "source": [
    "data['CLM_THRU_DT'].fillna(00000000, inplace=True)"
   ]
  },
  {
   "cell_type": "code",
   "execution_count": 14,
   "metadata": {},
   "outputs": [],
   "source": [
    "data['CLM_THRU_DT'] = pd.to_datetime(data['CLM_THRU_DT'])"
   ]
  },
  {
   "cell_type": "code",
   "execution_count": 15,
   "metadata": {},
   "outputs": [
    {
     "data": {
      "text/plain": [
       "0"
      ]
     },
     "execution_count": 15,
     "metadata": {},
     "output_type": "execute_result"
    }
   ],
   "source": [
    "data['CLM_THRU_DT'].isnull().sum()"
   ]
  },
  {
   "cell_type": "markdown",
   "metadata": {},
   "source": [
    "## PRVDR_NUM"
   ]
  },
  {
   "cell_type": "code",
   "execution_count": 16,
   "metadata": {},
   "outputs": [],
   "source": [
    "data['PRVDR_NUM'] = data['PRVDR_NUM'].astype('category')\n",
    "data['PRVDR_NUM'] = data['PRVDR_NUM'].cat.codes"
   ]
  },
  {
   "cell_type": "code",
   "execution_count": 17,
   "metadata": {},
   "outputs": [
    {
     "data": {
      "text/plain": [
       "0"
      ]
     },
     "execution_count": 17,
     "metadata": {},
     "output_type": "execute_result"
    }
   ],
   "source": [
    "data['PRVDR_NUM'].isnull().sum()"
   ]
  },
  {
   "cell_type": "markdown",
   "metadata": {},
   "source": [
    "### NCH_PRMRY_PYR_CLM_PD_AMT"
   ]
  },
  {
   "cell_type": "code",
   "execution_count": 18,
   "metadata": {},
   "outputs": [],
   "source": [
    "data['NCH_PRMRY_PYR_CLM_PD_AMT'].fillna(0, inplace=True)"
   ]
  },
  {
   "cell_type": "code",
   "execution_count": 19,
   "metadata": {},
   "outputs": [],
   "source": [
    "data['NCH_PRMRY_PYR_CLM_PD_AMT'] = data['NCH_PRMRY_PYR_CLM_PD_AMT'].astype('category')\n",
    "data['NCH_PRMRY_PYR_CLM_PD_AMT'] = data['NCH_PRMRY_PYR_CLM_PD_AMT'].cat.codes"
   ]
  },
  {
   "cell_type": "markdown",
   "metadata": {},
   "source": [
    "### AT_PHYSN_NPI"
   ]
  },
  {
   "cell_type": "code",
   "execution_count": 20,
   "metadata": {},
   "outputs": [
    {
     "data": {
      "text/plain": [
       "441"
      ]
     },
     "execution_count": 20,
     "metadata": {},
     "output_type": "execute_result"
    }
   ],
   "source": [
    "data['AT_PHYSN_NPI'].isnull().sum()"
   ]
  },
  {
   "cell_type": "code",
   "execution_count": 21,
   "metadata": {},
   "outputs": [],
   "source": [
    "data['AT_PHYSN_NPI'].fillna(0, inplace=True)"
   ]
  },
  {
   "cell_type": "code",
   "execution_count": 22,
   "metadata": {},
   "outputs": [],
   "source": [
    "data['AT_PHYSN_NPI'] = data['AT_PHYSN_NPI'].astype('category')\n",
    "data['AT_PHYSN_NPI'] = data['AT_PHYSN_NPI'].cat.codes"
   ]
  },
  {
   "cell_type": "markdown",
   "metadata": {},
   "source": [
    "### OP_PHYSN_NPI"
   ]
  },
  {
   "cell_type": "code",
   "execution_count": 23,
   "metadata": {},
   "outputs": [],
   "source": [
    "data['OP_PHYSN_NPI'] = data['OP_PHYSN_NPI'].astype('category')\n",
    "data['OP_PHYSN_NPI'] = data['OP_PHYSN_NPI'].cat.codes"
   ]
  },
  {
   "cell_type": "markdown",
   "metadata": {},
   "source": [
    "### OT_PHYSN_NPI "
   ]
  },
  {
   "cell_type": "code",
   "execution_count": 24,
   "metadata": {},
   "outputs": [],
   "source": [
    "data['OT_PHYSN_NPI'] = data['OT_PHYSN_NPI'].astype('category')\n",
    "data['OT_PHYSN_NPI'] = data['OT_PHYSN_NPI'].cat.codes"
   ]
  },
  {
   "cell_type": "markdown",
   "metadata": {},
   "source": [
    "### CLM_ADMSN_DT"
   ]
  },
  {
   "cell_type": "code",
   "execution_count": 25,
   "metadata": {},
   "outputs": [
    {
     "data": {
      "text/plain": [
       "0"
      ]
     },
     "execution_count": 25,
     "metadata": {},
     "output_type": "execute_result"
    }
   ],
   "source": [
    "data['CLM_ADMSN_DT'].isnull().sum()"
   ]
  },
  {
   "cell_type": "code",
   "execution_count": 26,
   "metadata": {},
   "outputs": [],
   "source": [
    "data['CLM_ADMSN_DT'] = pd.to_datetime(data['CLM_ADMSN_DT'])"
   ]
  },
  {
   "cell_type": "markdown",
   "metadata": {},
   "source": [
    "### CLM_PASS_THRU_PER_DIEM_AMT"
   ]
  },
  {
   "cell_type": "code",
   "execution_count": 27,
   "metadata": {},
   "outputs": [
    {
     "data": {
      "text/plain": [
       "0      32250\n",
       "10      1937\n",
       "200     1523\n",
       "100     1479\n",
       "20      1217\n",
       "30      1054\n",
       "50       904\n",
       "40       887\n",
       "300      818\n",
       "70       728\n",
       "60       703\n",
       "80       577\n",
       "500      321\n",
       "400      306\n",
       "90       288\n",
       "Name: CLM_PASS_THRU_PER_DIEM_AMT, dtype: int64"
      ]
     },
     "execution_count": 27,
     "metadata": {},
     "output_type": "execute_result"
    }
   ],
   "source": [
    "data['CLM_PASS_THRU_PER_DIEM_AMT'].value_counts()"
   ]
  },
  {
   "cell_type": "markdown",
   "metadata": {},
   "source": [
    "### NCH_BENE_IP_DDCTBL_AMT"
   ]
  },
  {
   "cell_type": "code",
   "execution_count": 28,
   "metadata": {},
   "outputs": [
    {
     "data": {
      "text/plain": [
       "1439"
      ]
     },
     "execution_count": 28,
     "metadata": {},
     "output_type": "execute_result"
    }
   ],
   "source": [
    "data['NCH_BENE_IP_DDCTBL_AMT'].isnull().sum()"
   ]
  },
  {
   "cell_type": "code",
   "execution_count": 29,
   "metadata": {},
   "outputs": [
    {
     "data": {
      "text/plain": [
       "NaN      1439\n",
       "1100     9308\n",
       "1068    16749\n",
       "1024    17496\n",
       "Name: NCH_BENE_IP_DDCTBL_AMT, dtype: int64"
      ]
     },
     "execution_count": 29,
     "metadata": {},
     "output_type": "execute_result"
    }
   ],
   "source": [
    "data['NCH_BENE_IP_DDCTBL_AMT'].value_counts(ascending=True, dropna=False)"
   ]
  },
  {
   "cell_type": "code",
   "execution_count": 30,
   "metadata": {},
   "outputs": [],
   "source": [
    "data['NCH_BENE_IP_DDCTBL_AMT'].fillna(0, inplace=True)"
   ]
  },
  {
   "cell_type": "markdown",
   "metadata": {},
   "source": [
    "### NCH_BENE_PTA_COINSRNC_LBLTY_AM"
   ]
  },
  {
   "cell_type": "code",
   "execution_count": 31,
   "metadata": {},
   "outputs": [
    {
     "data": {
      "text/plain": [
       "0"
      ]
     },
     "execution_count": 31,
     "metadata": {},
     "output_type": "execute_result"
    }
   ],
   "source": [
    "data['NCH_BENE_PTA_COINSRNC_LBLTY_AM'].isnull().sum()"
   ]
  },
  {
   "cell_type": "code",
   "execution_count": 32,
   "metadata": {},
   "outputs": [],
   "source": [
    "data['NCH_BENE_PTA_COINSRNC_LBLTY_AM'] = data['NCH_BENE_PTA_COINSRNC_LBLTY_AM'].astype('category')\n",
    "data['NCH_BENE_PTA_COINSRNC_LBLTY_AM'] = data['NCH_BENE_PTA_COINSRNC_LBLTY_AM'].cat.codes"
   ]
  },
  {
   "cell_type": "markdown",
   "metadata": {},
   "source": [
    "### CLM_UTLZTN_DAY_CNT"
   ]
  },
  {
   "cell_type": "code",
   "execution_count": 33,
   "metadata": {},
   "outputs": [
    {
     "data": {
      "text/plain": [
       "47"
      ]
     },
     "execution_count": 33,
     "metadata": {},
     "output_type": "execute_result"
    }
   ],
   "source": [
    "data['CLM_UTLZTN_DAY_CNT'].isnull().sum()"
   ]
  },
  {
   "cell_type": "code",
   "execution_count": 34,
   "metadata": {},
   "outputs": [],
   "source": [
    "data['CLM_UTLZTN_DAY_CNT'].fillna(0, inplace=True)"
   ]
  },
  {
   "cell_type": "markdown",
   "metadata": {},
   "source": [
    "### NCH_BENE_DSCHRG_DT"
   ]
  },
  {
   "cell_type": "code",
   "execution_count": 35,
   "metadata": {},
   "outputs": [],
   "source": [
    "data['NCH_BENE_DSCHRG_DT'] = data['NCH_BENE_DSCHRG_DT'].astype('category')\n",
    "data['NCH_BENE_DSCHRG_DT'] = data['NCH_BENE_DSCHRG_DT'].cat.codes"
   ]
  },
  {
   "cell_type": "markdown",
   "metadata": {},
   "source": [
    "### CLM_DRG_CD"
   ]
  },
  {
   "cell_type": "code",
   "execution_count": 36,
   "metadata": {},
   "outputs": [],
   "source": [
    "data['CLM_DRG_CD'] = data['CLM_DRG_CD'].astype('category')\n",
    "data['CLM_DRG_CD'] = data['CLM_DRG_CD'].cat.codes"
   ]
  },
  {
   "cell_type": "markdown",
   "metadata": {},
   "source": [
    "### ICD9_DGNS_CD_1"
   ]
  },
  {
   "cell_type": "code",
   "execution_count": 37,
   "metadata": {},
   "outputs": [
    {
     "data": {
      "text/plain": [
       "64"
      ]
     },
     "execution_count": 37,
     "metadata": {},
     "output_type": "execute_result"
    }
   ],
   "source": [
    "data['ICD9_DGNS_CD_1'].isnull().sum()"
   ]
  },
  {
   "cell_type": "code",
   "execution_count": 38,
   "metadata": {},
   "outputs": [],
   "source": [
    "data['ICD9_DGNS_CD_1'] = data['ICD9_DGNS_CD_1'].astype('category')\n",
    "data['ICD9_DGNS_CD_1'] = data['ICD9_DGNS_CD_1'].cat.codes"
   ]
  },
  {
   "cell_type": "markdown",
   "metadata": {},
   "source": [
    "### ICD9_DGNS_CD_2"
   ]
  },
  {
   "cell_type": "code",
   "execution_count": 39,
   "metadata": {},
   "outputs": [],
   "source": [
    "data['ICD9_DGNS_CD_2'] = data['ICD9_DGNS_CD_2'].astype('category')\n",
    "data['ICD9_DGNS_CD_2'] = data['ICD9_DGNS_CD_2'].cat.codes"
   ]
  },
  {
   "cell_type": "markdown",
   "metadata": {},
   "source": [
    "### ICD9_DGNS_CD_3"
   ]
  },
  {
   "cell_type": "code",
   "execution_count": 40,
   "metadata": {},
   "outputs": [],
   "source": [
    "data['ICD9_DGNS_CD_3'] = data['ICD9_DGNS_CD_3'].astype('category')\n",
    "data['ICD9_DGNS_CD_3'] = data['ICD9_DGNS_CD_3'].cat.codes"
   ]
  },
  {
   "cell_type": "code",
   "execution_count": 41,
   "metadata": {},
   "outputs": [
    {
     "data": {
      "text/plain": [
       "0"
      ]
     },
     "execution_count": 41,
     "metadata": {},
     "output_type": "execute_result"
    }
   ],
   "source": [
    "data['ICD9_DGNS_CD_3'].isnull().sum()"
   ]
  },
  {
   "cell_type": "markdown",
   "metadata": {},
   "source": [
    "### ICD9_DGNS_CD_4"
   ]
  },
  {
   "cell_type": "code",
   "execution_count": 42,
   "metadata": {},
   "outputs": [
    {
     "data": {
      "text/plain": [
       "1837"
      ]
     },
     "execution_count": 42,
     "metadata": {},
     "output_type": "execute_result"
    }
   ],
   "source": [
    "data['ICD9_DGNS_CD_4'].isnull().sum()"
   ]
  },
  {
   "cell_type": "code",
   "execution_count": 43,
   "metadata": {},
   "outputs": [],
   "source": [
    "data['ICD9_DGNS_CD_4'].fillna(0, inplace=True)"
   ]
  },
  {
   "cell_type": "code",
   "execution_count": 44,
   "metadata": {},
   "outputs": [],
   "source": [
    "data['ICD9_DGNS_CD_4'] = data['ICD9_DGNS_CD_4'].astype('category')\n",
    "data['ICD9_DGNS_CD_4'] = data['ICD9_DGNS_CD_4'].cat.codes"
   ]
  },
  {
   "cell_type": "markdown",
   "metadata": {},
   "source": [
    "### ICD9_DGNS_CD_5"
   ]
  },
  {
   "cell_type": "code",
   "execution_count": 45,
   "metadata": {},
   "outputs": [],
   "source": [
    "data['ICD9_DGNS_CD_5'].fillna(0, inplace=True)"
   ]
  },
  {
   "cell_type": "code",
   "execution_count": 46,
   "metadata": {},
   "outputs": [
    {
     "data": {
      "text/plain": [
       "0"
      ]
     },
     "execution_count": 46,
     "metadata": {},
     "output_type": "execute_result"
    }
   ],
   "source": [
    "data['ICD9_DGNS_CD_5'].isnull().sum()"
   ]
  },
  {
   "cell_type": "code",
   "execution_count": 47,
   "metadata": {},
   "outputs": [],
   "source": [
    "data['ICD9_DGNS_CD_5'] = data['ICD9_DGNS_CD_5'].astype('category')\n",
    "data['ICD9_DGNS_CD_5'] = data['ICD9_DGNS_CD_5'].cat.codes"
   ]
  },
  {
   "cell_type": "markdown",
   "metadata": {},
   "source": [
    "### ICD9_DGNS_CD_6"
   ]
  },
  {
   "cell_type": "code",
   "execution_count": 48,
   "metadata": {},
   "outputs": [],
   "source": [
    "data['ICD9_DGNS_CD_6'].fillna(0, inplace=True)"
   ]
  },
  {
   "cell_type": "code",
   "execution_count": 49,
   "metadata": {},
   "outputs": [
    {
     "data": {
      "text/plain": [
       "0"
      ]
     },
     "execution_count": 49,
     "metadata": {},
     "output_type": "execute_result"
    }
   ],
   "source": [
    "data['ICD9_DGNS_CD_6'].isnull().sum()"
   ]
  },
  {
   "cell_type": "code",
   "execution_count": 50,
   "metadata": {},
   "outputs": [],
   "source": [
    "data['ICD9_DGNS_CD_6'] = data['ICD9_DGNS_CD_6'].astype('category')\n",
    "data['ICD9_DGNS_CD_6'] = data['ICD9_DGNS_CD_6'].cat.codes"
   ]
  },
  {
   "cell_type": "markdown",
   "metadata": {},
   "source": [
    "### ICD9_DGNS_CD_7"
   ]
  },
  {
   "cell_type": "code",
   "execution_count": 51,
   "metadata": {},
   "outputs": [
    {
     "data": {
      "text/plain": [
       "8414"
      ]
     },
     "execution_count": 51,
     "metadata": {},
     "output_type": "execute_result"
    }
   ],
   "source": [
    "data['ICD9_DGNS_CD_7'].isnull().sum()"
   ]
  },
  {
   "cell_type": "code",
   "execution_count": 52,
   "metadata": {},
   "outputs": [],
   "source": [
    "data['ICD9_DGNS_CD_7'].fillna(0, inplace=True)"
   ]
  },
  {
   "cell_type": "code",
   "execution_count": 53,
   "metadata": {},
   "outputs": [],
   "source": [
    "data['ICD9_DGNS_CD_7'] = data['ICD9_DGNS_CD_7'].astype('category')\n",
    "data['ICD9_DGNS_CD_7'] = data['ICD9_DGNS_CD_7'].cat.codes"
   ]
  },
  {
   "cell_type": "markdown",
   "metadata": {},
   "source": [
    "### ICD9_DGNS_CD_8"
   ]
  },
  {
   "cell_type": "code",
   "execution_count": 54,
   "metadata": {},
   "outputs": [
    {
     "data": {
      "text/plain": [
       "11445"
      ]
     },
     "execution_count": 54,
     "metadata": {},
     "output_type": "execute_result"
    }
   ],
   "source": [
    "data['ICD9_DGNS_CD_8'].isnull().sum()"
   ]
  },
  {
   "cell_type": "code",
   "execution_count": 55,
   "metadata": {},
   "outputs": [],
   "source": [
    "data['ICD9_DGNS_CD_8'].fillna(0, inplace=True)"
   ]
  },
  {
   "cell_type": "code",
   "execution_count": 56,
   "metadata": {},
   "outputs": [],
   "source": [
    "data['ICD9_DGNS_CD_8'] = data['ICD9_DGNS_CD_8'].astype('category')\n",
    "data['ICD9_DGNS_CD_8'] = data['ICD9_DGNS_CD_8'].cat.codes"
   ]
  },
  {
   "cell_type": "markdown",
   "metadata": {},
   "source": [
    "### ICD9_DGNS_CD_9"
   ]
  },
  {
   "cell_type": "code",
   "execution_count": 57,
   "metadata": {},
   "outputs": [
    {
     "data": {
      "text/plain": [
       "14774"
      ]
     },
     "execution_count": 57,
     "metadata": {},
     "output_type": "execute_result"
    }
   ],
   "source": [
    "data['ICD9_DGNS_CD_9'].isnull().sum()"
   ]
  },
  {
   "cell_type": "code",
   "execution_count": 58,
   "metadata": {},
   "outputs": [],
   "source": [
    "data['ICD9_DGNS_CD_9'].fillna(0, inplace=True)"
   ]
  },
  {
   "cell_type": "code",
   "execution_count": 59,
   "metadata": {},
   "outputs": [],
   "source": [
    "data['ICD9_DGNS_CD_9'] = data['ICD9_DGNS_CD_9'].astype('category')\n",
    "data['ICD9_DGNS_CD_9'] = data['ICD9_DGNS_CD_9'].cat.codes"
   ]
  },
  {
   "cell_type": "markdown",
   "metadata": {},
   "source": [
    "### ICD9_DGNS_CD_10"
   ]
  },
  {
   "cell_type": "code",
   "execution_count": 60,
   "metadata": {},
   "outputs": [
    {
     "data": {
      "text/plain": [
       "41335"
      ]
     },
     "execution_count": 60,
     "metadata": {},
     "output_type": "execute_result"
    }
   ],
   "source": [
    "data['ICD9_DGNS_CD_10'].isnull().sum()"
   ]
  },
  {
   "cell_type": "code",
   "execution_count": 61,
   "metadata": {},
   "outputs": [],
   "source": [
    "data['ICD9_DGNS_CD_10'].fillna(0, inplace=True)"
   ]
  },
  {
   "cell_type": "code",
   "execution_count": 62,
   "metadata": {},
   "outputs": [],
   "source": [
    "data['ICD9_DGNS_CD_10'] = data['ICD9_DGNS_CD_10'].astype('category')\n",
    "data['ICD9_DGNS_CD_10'] = data['ICD9_DGNS_CD_10'].cat.codes"
   ]
  },
  {
   "cell_type": "markdown",
   "metadata": {},
   "source": [
    "### ICD9_PRCDR_CD_1"
   ]
  },
  {
   "cell_type": "code",
   "execution_count": 63,
   "metadata": {},
   "outputs": [
    {
     "data": {
      "text/plain": [
       "19250"
      ]
     },
     "execution_count": 63,
     "metadata": {},
     "output_type": "execute_result"
    }
   ],
   "source": [
    "data['ICD9_PRCDR_CD_1'].isnull().sum()"
   ]
  },
  {
   "cell_type": "code",
   "execution_count": 64,
   "metadata": {},
   "outputs": [],
   "source": [
    "data['ICD9_PRCDR_CD_1'].fillna(0, inplace=True)"
   ]
  },
  {
   "cell_type": "code",
   "execution_count": 65,
   "metadata": {},
   "outputs": [],
   "source": [
    "data['ICD9_PRCDR_CD_1'] = data['ICD9_PRCDR_CD_1'].astype('category')\n",
    "data['ICD9_PRCDR_CD_1'] = data['ICD9_PRCDR_CD_1'].cat.codes"
   ]
  },
  {
   "cell_type": "markdown",
   "metadata": {},
   "source": [
    "### ICD9_PRCDR_CD_2"
   ]
  },
  {
   "cell_type": "code",
   "execution_count": 66,
   "metadata": {},
   "outputs": [
    {
     "data": {
      "text/plain": [
       "29772"
      ]
     },
     "execution_count": 66,
     "metadata": {},
     "output_type": "execute_result"
    }
   ],
   "source": [
    "data['ICD9_PRCDR_CD_2'].isnull().sum()"
   ]
  },
  {
   "cell_type": "code",
   "execution_count": 67,
   "metadata": {},
   "outputs": [],
   "source": [
    "data['ICD9_PRCDR_CD_2'].fillna(0, inplace=True)"
   ]
  },
  {
   "cell_type": "code",
   "execution_count": 68,
   "metadata": {},
   "outputs": [],
   "source": [
    "data['ICD9_PRCDR_CD_2'] = data['ICD9_PRCDR_CD_2'].astype('category')\n",
    "data['ICD9_PRCDR_CD_2'] = data['ICD9_PRCDR_CD_2'].cat.codes"
   ]
  },
  {
   "cell_type": "markdown",
   "metadata": {},
   "source": [
    "### ICD9_PRCDR_CD_3"
   ]
  },
  {
   "cell_type": "code",
   "execution_count": 69,
   "metadata": {},
   "outputs": [
    {
     "data": {
      "text/plain": [
       "35280"
      ]
     },
     "execution_count": 69,
     "metadata": {},
     "output_type": "execute_result"
    }
   ],
   "source": [
    "data['ICD9_PRCDR_CD_3'].isnull().sum()"
   ]
  },
  {
   "cell_type": "code",
   "execution_count": 70,
   "metadata": {},
   "outputs": [],
   "source": [
    "data['ICD9_PRCDR_CD_3'].fillna(0, inplace=True)"
   ]
  },
  {
   "cell_type": "code",
   "execution_count": 71,
   "metadata": {},
   "outputs": [],
   "source": [
    "data['ICD9_PRCDR_CD_3'] = data['ICD9_PRCDR_CD_3'].astype('category')\n",
    "data['ICD9_PRCDR_CD_3'] = data['ICD9_PRCDR_CD_3'].cat.codes"
   ]
  },
  {
   "cell_type": "markdown",
   "metadata": {},
   "source": [
    "### ICD9_PRCDR_CD_4"
   ]
  },
  {
   "cell_type": "code",
   "execution_count": 72,
   "metadata": {},
   "outputs": [
    {
     "data": {
      "text/plain": [
       "38691"
      ]
     },
     "execution_count": 72,
     "metadata": {},
     "output_type": "execute_result"
    }
   ],
   "source": [
    "data['ICD9_PRCDR_CD_4'].isnull().sum()"
   ]
  },
  {
   "cell_type": "code",
   "execution_count": 73,
   "metadata": {},
   "outputs": [],
   "source": [
    "data['ICD9_PRCDR_CD_4'].fillna(0, inplace=True)"
   ]
  },
  {
   "cell_type": "code",
   "execution_count": 74,
   "metadata": {},
   "outputs": [],
   "source": [
    "data['ICD9_PRCDR_CD_4'] = data['ICD9_PRCDR_CD_4'].astype('category')\n",
    "data['ICD9_PRCDR_CD_4'] = data['ICD9_PRCDR_CD_4'].cat.codes"
   ]
  },
  {
   "cell_type": "markdown",
   "metadata": {},
   "source": [
    "### ICD9_PRCDR_CD_5"
   ]
  },
  {
   "cell_type": "code",
   "execution_count": 75,
   "metadata": {},
   "outputs": [
    {
     "data": {
      "text/plain": [
       "40663"
      ]
     },
     "execution_count": 75,
     "metadata": {},
     "output_type": "execute_result"
    }
   ],
   "source": [
    "data['ICD9_PRCDR_CD_5'].isnull().sum()"
   ]
  },
  {
   "cell_type": "code",
   "execution_count": 76,
   "metadata": {},
   "outputs": [],
   "source": [
    "data['ICD9_PRCDR_CD_5'].fillna(0, inplace=True)"
   ]
  },
  {
   "cell_type": "code",
   "execution_count": 77,
   "metadata": {},
   "outputs": [],
   "source": [
    "data['ICD9_PRCDR_CD_5'] = data['ICD9_PRCDR_CD_5'].astype('category')\n",
    "data['ICD9_PRCDR_CD_5'] = data['ICD9_PRCDR_CD_5'].cat.codes"
   ]
  },
  {
   "cell_type": "markdown",
   "metadata": {},
   "source": [
    "### ICD9_PRCDR_CD_6"
   ]
  },
  {
   "cell_type": "code",
   "execution_count": 78,
   "metadata": {},
   "outputs": [
    {
     "data": {
      "text/plain": [
       "41907"
      ]
     },
     "execution_count": 78,
     "metadata": {},
     "output_type": "execute_result"
    }
   ],
   "source": [
    "data['ICD9_PRCDR_CD_6'].isnull().sum()"
   ]
  },
  {
   "cell_type": "code",
   "execution_count": 79,
   "metadata": {},
   "outputs": [],
   "source": [
    "data['ICD9_PRCDR_CD_6'].fillna(0, inplace=True)"
   ]
  },
  {
   "cell_type": "code",
   "execution_count": 80,
   "metadata": {},
   "outputs": [],
   "source": [
    "data['ICD9_PRCDR_CD_6'] = data['ICD9_PRCDR_CD_6'].astype('category')\n",
    "data['ICD9_PRCDR_CD_6'] = data['ICD9_PRCDR_CD_6'].cat.codes"
   ]
  },
  {
   "cell_type": "markdown",
   "metadata": {},
   "source": [
    "### Breaking down datetime to individual columns"
   ]
  },
  {
   "cell_type": "code",
   "execution_count": 81,
   "metadata": {},
   "outputs": [],
   "source": [
    "data['CLM_FROM_DT_year'] = data['CLM_FROM_DT'].dt.year\n",
    "data['CLM_FROM_DT_month'] = data['CLM_FROM_DT'].dt.month\n",
    "data['CLM_FROM_DT_day'] = data['CLM_FROM_DT'].dt.day"
   ]
  },
  {
   "cell_type": "code",
   "execution_count": 82,
   "metadata": {},
   "outputs": [],
   "source": [
    "data['CLM_THRU_DT_year'] = data['CLM_THRU_DT'].dt.year\n",
    "data['CLM_THRU_DT_month'] = data['CLM_THRU_DT'].dt.month\n",
    "data['CLM_THRU_DT_day'] = data['CLM_THRU_DT'].dt.day"
   ]
  },
  {
   "cell_type": "code",
   "execution_count": 83,
   "metadata": {},
   "outputs": [],
   "source": [
    "data['CLM_ADMSN_DT_year'] = data['CLM_ADMSN_DT'].dt.year\n",
    "data['CLM_ADMSN_DT_month'] = data['CLM_ADMSN_DT'].dt.month\n",
    "data['CLM_ADMSN_DT_day'] = data['CLM_ADMSN_DT'].dt.day"
   ]
  },
  {
   "cell_type": "code",
   "execution_count": 84,
   "metadata": {},
   "outputs": [],
   "source": [
    "data.drop(data[['CLM_FROM_DT', 'CLM_THRU_DT', 'CLM_ADMSN_DT']], axis=1, inplace=True)"
   ]
  },
  {
   "cell_type": "code",
   "execution_count": 85,
   "metadata": {},
   "outputs": [
    {
     "data": {
      "text/html": [
       "<div>\n",
       "<style scoped>\n",
       "    .dataframe tbody tr th:only-of-type {\n",
       "        vertical-align: middle;\n",
       "    }\n",
       "\n",
       "    .dataframe tbody tr th {\n",
       "        vertical-align: top;\n",
       "    }\n",
       "\n",
       "    .dataframe thead th {\n",
       "        text-align: right;\n",
       "    }\n",
       "</style>\n",
       "<table border=\"1\" class=\"dataframe\">\n",
       "  <thead>\n",
       "    <tr style=\"text-align: right;\">\n",
       "      <th></th>\n",
       "      <th>PRVDR_NUM</th>\n",
       "      <th>CLM_PMT_AMT</th>\n",
       "      <th>NCH_PRMRY_PYR_CLM_PD_AMT</th>\n",
       "      <th>AT_PHYSN_NPI</th>\n",
       "      <th>OP_PHYSN_NPI</th>\n",
       "      <th>OT_PHYSN_NPI</th>\n",
       "      <th>CLM_PASS_THRU_PER_DIEM_AMT</th>\n",
       "      <th>NCH_BENE_IP_DDCTBL_AMT</th>\n",
       "      <th>NCH_BENE_PTA_COINSRNC_LBLTY_AM</th>\n",
       "      <th>NCH_BENE_BLOOD_DDCTBL_LBLTY_AM</th>\n",
       "      <th>CLM_UTLZTN_DAY_CNT</th>\n",
       "      <th>NCH_BENE_DSCHRG_DT</th>\n",
       "      <th>CLM_DRG_CD</th>\n",
       "      <th>ICD9_DGNS_CD_1</th>\n",
       "      <th>ICD9_DGNS_CD_2</th>\n",
       "      <th>ICD9_DGNS_CD_3</th>\n",
       "      <th>ICD9_DGNS_CD_4</th>\n",
       "      <th>ICD9_DGNS_CD_5</th>\n",
       "      <th>ICD9_DGNS_CD_6</th>\n",
       "      <th>ICD9_DGNS_CD_7</th>\n",
       "      <th>ICD9_DGNS_CD_8</th>\n",
       "      <th>ICD9_DGNS_CD_9</th>\n",
       "      <th>ICD9_DGNS_CD_10</th>\n",
       "      <th>ICD9_PRCDR_CD_1</th>\n",
       "      <th>ICD9_PRCDR_CD_2</th>\n",
       "      <th>ICD9_PRCDR_CD_3</th>\n",
       "      <th>ICD9_PRCDR_CD_4</th>\n",
       "      <th>ICD9_PRCDR_CD_5</th>\n",
       "      <th>ICD9_PRCDR_CD_6</th>\n",
       "      <th>CLM_FROM_DT_year</th>\n",
       "      <th>CLM_FROM_DT_month</th>\n",
       "      <th>CLM_FROM_DT_day</th>\n",
       "      <th>CLM_THRU_DT_year</th>\n",
       "      <th>CLM_THRU_DT_month</th>\n",
       "      <th>CLM_THRU_DT_day</th>\n",
       "      <th>CLM_ADMSN_DT_year</th>\n",
       "      <th>CLM_ADMSN_DT_month</th>\n",
       "      <th>CLM_ADMSN_DT_day</th>\n",
       "    </tr>\n",
       "  </thead>\n",
       "  <tbody>\n",
       "    <tr>\n",
       "      <th>0</th>\n",
       "      <td>1290</td>\n",
       "      <td>4000</td>\n",
       "      <td>0</td>\n",
       "      <td>3124</td>\n",
       "      <td>-1</td>\n",
       "      <td>-1</td>\n",
       "      <td>0</td>\n",
       "      <td>1100</td>\n",
       "      <td>0</td>\n",
       "      <td>0</td>\n",
       "      <td>1</td>\n",
       "      <td>802</td>\n",
       "      <td>90</td>\n",
       "      <td>1796</td>\n",
       "      <td>1876</td>\n",
       "      <td>2393</td>\n",
       "      <td>833</td>\n",
       "      <td>266</td>\n",
       "      <td>723</td>\n",
       "      <td>2325</td>\n",
       "      <td>1528</td>\n",
       "      <td>1950</td>\n",
       "      <td>0</td>\n",
       "      <td>0</td>\n",
       "      <td>0</td>\n",
       "      <td>0</td>\n",
       "      <td>0</td>\n",
       "      <td>0</td>\n",
       "      <td>0</td>\n",
       "      <td>2010</td>\n",
       "      <td>3</td>\n",
       "      <td>12</td>\n",
       "      <td>2010</td>\n",
       "      <td>3</td>\n",
       "      <td>13</td>\n",
       "      <td>2010</td>\n",
       "      <td>3</td>\n",
       "      <td>12</td>\n",
       "    </tr>\n",
       "    <tr>\n",
       "      <th>1</th>\n",
       "      <td>1904</td>\n",
       "      <td>26000</td>\n",
       "      <td>0</td>\n",
       "      <td>7997</td>\n",
       "      <td>-1</td>\n",
       "      <td>-1</td>\n",
       "      <td>0</td>\n",
       "      <td>1068</td>\n",
       "      <td>0</td>\n",
       "      <td>0</td>\n",
       "      <td>6</td>\n",
       "      <td>473</td>\n",
       "      <td>79</td>\n",
       "      <td>157</td>\n",
       "      <td>742</td>\n",
       "      <td>1297</td>\n",
       "      <td>1758</td>\n",
       "      <td>299</td>\n",
       "      <td>1518</td>\n",
       "      <td>258</td>\n",
       "      <td>92</td>\n",
       "      <td>1157</td>\n",
       "      <td>0</td>\n",
       "      <td>0</td>\n",
       "      <td>0</td>\n",
       "      <td>0</td>\n",
       "      <td>0</td>\n",
       "      <td>0</td>\n",
       "      <td>0</td>\n",
       "      <td>2009</td>\n",
       "      <td>4</td>\n",
       "      <td>12</td>\n",
       "      <td>2009</td>\n",
       "      <td>4</td>\n",
       "      <td>18</td>\n",
       "      <td>2009</td>\n",
       "      <td>4</td>\n",
       "      <td>12</td>\n",
       "    </tr>\n",
       "    <tr>\n",
       "      <th>2</th>\n",
       "      <td>1901</td>\n",
       "      <td>5000</td>\n",
       "      <td>0</td>\n",
       "      <td>7462</td>\n",
       "      <td>5313</td>\n",
       "      <td>-1</td>\n",
       "      <td>0</td>\n",
       "      <td>1068</td>\n",
       "      <td>0</td>\n",
       "      <td>0</td>\n",
       "      <td>2</td>\n",
       "      <td>610</td>\n",
       "      <td>556</td>\n",
       "      <td>1471</td>\n",
       "      <td>391</td>\n",
       "      <td>1202</td>\n",
       "      <td>0</td>\n",
       "      <td>0</td>\n",
       "      <td>0</td>\n",
       "      <td>0</td>\n",
       "      <td>0</td>\n",
       "      <td>0</td>\n",
       "      <td>0</td>\n",
       "      <td>652</td>\n",
       "      <td>941</td>\n",
       "      <td>1380</td>\n",
       "      <td>0</td>\n",
       "      <td>0</td>\n",
       "      <td>0</td>\n",
       "      <td>2009</td>\n",
       "      <td>8</td>\n",
       "      <td>31</td>\n",
       "      <td>2009</td>\n",
       "      <td>9</td>\n",
       "      <td>2</td>\n",
       "      <td>2009</td>\n",
       "      <td>8</td>\n",
       "      <td>31</td>\n",
       "    </tr>\n",
       "    <tr>\n",
       "      <th>3</th>\n",
       "      <td>1958</td>\n",
       "      <td>5000</td>\n",
       "      <td>0</td>\n",
       "      <td>5846</td>\n",
       "      <td>-1</td>\n",
       "      <td>35</td>\n",
       "      <td>0</td>\n",
       "      <td>1068</td>\n",
       "      <td>0</td>\n",
       "      <td>0</td>\n",
       "      <td>3</td>\n",
       "      <td>628</td>\n",
       "      <td>657</td>\n",
       "      <td>499</td>\n",
       "      <td>455</td>\n",
       "      <td>1537</td>\n",
       "      <td>574</td>\n",
       "      <td>2369</td>\n",
       "      <td>522</td>\n",
       "      <td>0</td>\n",
       "      <td>0</td>\n",
       "      <td>0</td>\n",
       "      <td>0</td>\n",
       "      <td>0</td>\n",
       "      <td>0</td>\n",
       "      <td>0</td>\n",
       "      <td>0</td>\n",
       "      <td>0</td>\n",
       "      <td>0</td>\n",
       "      <td>2009</td>\n",
       "      <td>9</td>\n",
       "      <td>17</td>\n",
       "      <td>2009</td>\n",
       "      <td>9</td>\n",
       "      <td>20</td>\n",
       "      <td>2009</td>\n",
       "      <td>9</td>\n",
       "      <td>17</td>\n",
       "    </tr>\n",
       "    <tr>\n",
       "      <th>4</th>\n",
       "      <td>1904</td>\n",
       "      <td>16000</td>\n",
       "      <td>0</td>\n",
       "      <td>7898</td>\n",
       "      <td>1046</td>\n",
       "      <td>-1</td>\n",
       "      <td>0</td>\n",
       "      <td>1100</td>\n",
       "      <td>0</td>\n",
       "      <td>0</td>\n",
       "      <td>5</td>\n",
       "      <td>912</td>\n",
       "      <td>728</td>\n",
       "      <td>688</td>\n",
       "      <td>742</td>\n",
       "      <td>616</td>\n",
       "      <td>2565</td>\n",
       "      <td>1807</td>\n",
       "      <td>242</td>\n",
       "      <td>1705</td>\n",
       "      <td>1659</td>\n",
       "      <td>731</td>\n",
       "      <td>0</td>\n",
       "      <td>0</td>\n",
       "      <td>1481</td>\n",
       "      <td>0</td>\n",
       "      <td>0</td>\n",
       "      <td>0</td>\n",
       "      <td>0</td>\n",
       "      <td>2010</td>\n",
       "      <td>6</td>\n",
       "      <td>26</td>\n",
       "      <td>2010</td>\n",
       "      <td>7</td>\n",
       "      <td>1</td>\n",
       "      <td>2010</td>\n",
       "      <td>6</td>\n",
       "      <td>26</td>\n",
       "    </tr>\n",
       "  </tbody>\n",
       "</table>\n",
       "</div>"
      ],
      "text/plain": [
       "   PRVDR_NUM CLM_PMT_AMT  NCH_PRMRY_PYR_CLM_PD_AMT  AT_PHYSN_NPI  OP_PHYSN_NPI  OT_PHYSN_NPI CLM_PASS_THRU_PER_DIEM_AMT NCH_BENE_IP_DDCTBL_AMT  NCH_BENE_PTA_COINSRNC_LBLTY_AM NCH_BENE_BLOOD_DDCTBL_LBLTY_AM CLM_UTLZTN_DAY_CNT  NCH_BENE_DSCHRG_DT  CLM_DRG_CD  ICD9_DGNS_CD_1  ICD9_DGNS_CD_2  ICD9_DGNS_CD_3  ICD9_DGNS_CD_4  ICD9_DGNS_CD_5  ICD9_DGNS_CD_6  ICD9_DGNS_CD_7  ICD9_DGNS_CD_8  ICD9_DGNS_CD_9  ICD9_DGNS_CD_10  ICD9_PRCDR_CD_1  ICD9_PRCDR_CD_2  ICD9_PRCDR_CD_3  ICD9_PRCDR_CD_4  ICD9_PRCDR_CD_5  ICD9_PRCDR_CD_6  CLM_FROM_DT_year  CLM_FROM_DT_month  CLM_FROM_DT_day  CLM_THRU_DT_year  CLM_THRU_DT_month  CLM_THRU_DT_day  CLM_ADMSN_DT_year  CLM_ADMSN_DT_month  CLM_ADMSN_DT_day\n",
       "0       1290        4000                         0          3124            -1            -1                          0                   1100                               0                              0                  1                 802          90            1796            1876            2393             833             266             723            2325            1528            1950                0                0                0                0                0                0                0              2010                  3               12              2010                  3               13               2010                   3                12\n",
       "1       1904       26000                         0          7997            -1            -1                          0                   1068                               0                              0                  6                 473          79             157             742            1297            1758             299            1518             258              92            1157                0                0                0                0                0                0                0              2009                  4               12              2009                  4               18               2009                   4                12\n",
       "2       1901        5000                         0          7462          5313            -1                          0                   1068                               0                              0                  2                 610         556            1471             391            1202               0               0               0               0               0               0                0              652              941             1380                0                0                0              2009                  8               31              2009                  9                2               2009                   8                31\n",
       "3       1958        5000                         0          5846            -1            35                          0                   1068                               0                              0                  3                 628         657             499             455            1537             574            2369             522               0               0               0                0                0                0                0                0                0                0              2009                  9               17              2009                  9               20               2009                   9                17\n",
       "4       1904       16000                         0          7898          1046            -1                          0                   1100                               0                              0                  5                 912         728             688             742             616            2565            1807             242            1705            1659             731                0                0             1481                0                0                0                0              2010                  6               26              2010                  7                1               2010                   6                26"
      ]
     },
     "execution_count": 85,
     "metadata": {},
     "output_type": "execute_result"
    }
   ],
   "source": [
    "data.head()"
   ]
  },
  {
   "cell_type": "markdown",
   "metadata": {},
   "source": [
    "# Memory optimization"
   ]
  },
  {
   "cell_type": "code",
   "execution_count": 86,
   "metadata": {},
   "outputs": [
    {
     "data": {
      "text/plain": [
       "7108816"
      ]
     },
     "execution_count": 86,
     "metadata": {},
     "output_type": "execute_result"
    }
   ],
   "source": [
    "data.memory_usage().sum()"
   ]
  },
  {
   "cell_type": "code",
   "execution_count": 87,
   "metadata": {},
   "outputs": [
    {
     "data": {
      "text/plain": [
       "PRVDR_NUM                          int16\n",
       "CLM_PMT_AMT                       object\n",
       "NCH_PRMRY_PYR_CLM_PD_AMT            int8\n",
       "AT_PHYSN_NPI                       int16\n",
       "OP_PHYSN_NPI                       int16\n",
       "OT_PHYSN_NPI                       int16\n",
       "CLM_PASS_THRU_PER_DIEM_AMT        object\n",
       "NCH_BENE_IP_DDCTBL_AMT            object\n",
       "NCH_BENE_PTA_COINSRNC_LBLTY_AM      int8\n",
       "NCH_BENE_BLOOD_DDCTBL_LBLTY_AM    object\n",
       "CLM_UTLZTN_DAY_CNT                object\n",
       "NCH_BENE_DSCHRG_DT                 int16\n",
       "CLM_DRG_CD                         int16\n",
       "ICD9_DGNS_CD_1                     int16\n",
       "ICD9_DGNS_CD_2                     int16\n",
       "ICD9_DGNS_CD_3                     int16\n",
       "ICD9_DGNS_CD_4                     int16\n",
       "ICD9_DGNS_CD_5                     int16\n",
       "ICD9_DGNS_CD_6                     int16\n",
       "ICD9_DGNS_CD_7                     int16\n",
       "ICD9_DGNS_CD_8                     int16\n",
       "ICD9_DGNS_CD_9                     int16\n",
       "ICD9_DGNS_CD_10                    int16\n",
       "ICD9_PRCDR_CD_1                    int16\n",
       "ICD9_PRCDR_CD_2                    int16\n",
       "ICD9_PRCDR_CD_3                    int16\n",
       "ICD9_PRCDR_CD_4                    int16\n",
       "ICD9_PRCDR_CD_5                    int16\n",
       "ICD9_PRCDR_CD_6                    int16\n",
       "CLM_FROM_DT_year                   int64\n",
       "CLM_FROM_DT_month                  int64\n",
       "CLM_FROM_DT_day                    int64\n",
       "CLM_THRU_DT_year                   int64\n",
       "CLM_THRU_DT_month                  int64\n",
       "CLM_THRU_DT_day                    int64\n",
       "CLM_ADMSN_DT_year                  int64\n",
       "CLM_ADMSN_DT_month                 int64\n",
       "CLM_ADMSN_DT_day                   int64\n",
       "dtype: object"
      ]
     },
     "execution_count": 87,
     "metadata": {},
     "output_type": "execute_result"
    }
   ],
   "source": [
    "data.dtypes"
   ]
  },
  {
   "cell_type": "code",
   "execution_count": 88,
   "metadata": {},
   "outputs": [],
   "source": [
    "for i in data.columns:\n",
    "    if data[i].dtypes == 'int64':\n",
    "        data[i] = data[i].astype('uint16')\n",
    "    if data[i].dtypes == 'int16':\n",
    "        data[i] = data[i].astype('uint16')\n",
    "    if data[i].dtypes == 'object':\n",
    "        data[i] = data[i].astype('uint16')\n",
    "    if data[i].dtypes == 'datetime64[ns]':\n",
    "        data[i] = data[i].astype('uint16')"
   ]
  },
  {
   "cell_type": "code",
   "execution_count": 89,
   "metadata": {},
   "outputs": [
    {
     "data": {
      "text/plain": [
       "3329488"
      ]
     },
     "execution_count": 89,
     "metadata": {},
     "output_type": "execute_result"
    }
   ],
   "source": [
    "data.memory_usage().sum()"
   ]
  },
  {
   "cell_type": "markdown",
   "metadata": {},
   "source": [
    "46% memory usage savings"
   ]
  },
  {
   "cell_type": "code",
   "execution_count": 90,
   "metadata": {},
   "outputs": [
    {
     "data": {
      "text/plain": [
       "46.83604133234001"
      ]
     },
     "execution_count": 90,
     "metadata": {},
     "output_type": "execute_result"
    }
   ],
   "source": [
    "3329488 / 7108816 * 100"
   ]
  },
  {
   "cell_type": "code",
   "execution_count": 91,
   "metadata": {},
   "outputs": [
    {
     "data": {
      "text/plain": [
       "(44992, 38)"
      ]
     },
     "execution_count": 91,
     "metadata": {},
     "output_type": "execute_result"
    }
   ],
   "source": [
    "data.shape"
   ]
  },
  {
   "cell_type": "markdown",
   "metadata": {},
   "source": [
    "# Plot analysis"
   ]
  },
  {
   "cell_type": "code",
   "execution_count": null,
   "metadata": {},
   "outputs": [],
   "source": []
  },
  {
   "cell_type": "code",
   "execution_count": null,
   "metadata": {},
   "outputs": [],
   "source": []
  },
  {
   "cell_type": "markdown",
   "metadata": {},
   "source": [
    "# PCA"
   ]
  },
  {
   "cell_type": "code",
   "execution_count": 92,
   "metadata": {},
   "outputs": [],
   "source": [
    "random_s = 0\n",
    "clusters = 8"
   ]
  },
  {
   "cell_type": "code",
   "execution_count": 96,
   "metadata": {},
   "outputs": [],
   "source": [
    "from sklearn.decomposition import PCA\n",
    "from sklearn.cluster import KMeans\n",
    "pca = PCA(n_components=2)\n",
    "pca_data = pca.fit(data)"
   ]
  },
  {
   "cell_type": "code",
   "execution_count": 97,
   "metadata": {},
   "outputs": [
    {
     "data": {
      "text/plain": [
       "KMeans(algorithm='auto', copy_x=True, init='k-means++', max_iter=300,\n",
       "    n_clusters=8, n_init=10, n_jobs=1, precompute_distances='auto',\n",
       "    random_state=None, tol=0.0001, verbose=0)"
      ]
     },
     "execution_count": 97,
     "metadata": {},
     "output_type": "execute_result"
    }
   ],
   "source": [
    "reduced_data = PCA(n_components=2).fit_transform(data)\n",
    "kmeans = KMeans(init='k-means++', n_clusters=clusters, n_init=10)\n",
    "kmeans.fit(reduced_data)"
   ]
  },
  {
   "cell_type": "code",
   "execution_count": 98,
   "metadata": {},
   "outputs": [
    {
     "ename": "MemoryError",
     "evalue": "",
     "output_type": "error",
     "traceback": [
      "\u001b[0;31m---------------------------------------------------------------------------\u001b[0m",
      "\u001b[0;31mMemoryError\u001b[0m                               Traceback (most recent call last)",
      "\u001b[0;32m<ipython-input-98-c08fee947e57>\u001b[0m in \u001b[0;36m<module>\u001b[0;34m()\u001b[0m\n\u001b[1;32m      5\u001b[0m \u001b[0mx_min\u001b[0m\u001b[0;34m,\u001b[0m \u001b[0mx_max\u001b[0m \u001b[0;34m=\u001b[0m \u001b[0mreduced_data\u001b[0m\u001b[0;34m[\u001b[0m\u001b[0;34m:\u001b[0m\u001b[0;34m,\u001b[0m \u001b[0;36m0\u001b[0m\u001b[0;34m]\u001b[0m\u001b[0;34m.\u001b[0m\u001b[0mmin\u001b[0m\u001b[0;34m(\u001b[0m\u001b[0;34m)\u001b[0m \u001b[0;34m-\u001b[0m \u001b[0;36m1\u001b[0m\u001b[0;34m,\u001b[0m \u001b[0mreduced_data\u001b[0m\u001b[0;34m[\u001b[0m\u001b[0;34m:\u001b[0m\u001b[0;34m,\u001b[0m \u001b[0;36m0\u001b[0m\u001b[0;34m]\u001b[0m\u001b[0;34m.\u001b[0m\u001b[0mmax\u001b[0m\u001b[0;34m(\u001b[0m\u001b[0;34m)\u001b[0m \u001b[0;34m+\u001b[0m \u001b[0;36m1\u001b[0m\u001b[0;34m\u001b[0m\u001b[0m\n\u001b[1;32m      6\u001b[0m \u001b[0my_min\u001b[0m\u001b[0;34m,\u001b[0m \u001b[0my_max\u001b[0m \u001b[0;34m=\u001b[0m \u001b[0mreduced_data\u001b[0m\u001b[0;34m[\u001b[0m\u001b[0;34m:\u001b[0m\u001b[0;34m,\u001b[0m \u001b[0;36m1\u001b[0m\u001b[0;34m]\u001b[0m\u001b[0;34m.\u001b[0m\u001b[0mmin\u001b[0m\u001b[0;34m(\u001b[0m\u001b[0;34m)\u001b[0m \u001b[0;34m-\u001b[0m \u001b[0;36m1\u001b[0m\u001b[0;34m,\u001b[0m \u001b[0mreduced_data\u001b[0m\u001b[0;34m[\u001b[0m\u001b[0;34m:\u001b[0m\u001b[0;34m,\u001b[0m \u001b[0;36m1\u001b[0m\u001b[0;34m]\u001b[0m\u001b[0;34m.\u001b[0m\u001b[0mmax\u001b[0m\u001b[0;34m(\u001b[0m\u001b[0;34m)\u001b[0m \u001b[0;34m+\u001b[0m \u001b[0;36m1\u001b[0m\u001b[0;34m\u001b[0m\u001b[0m\n\u001b[0;32m----> 7\u001b[0;31m \u001b[0mxx\u001b[0m\u001b[0;34m,\u001b[0m \u001b[0myy\u001b[0m \u001b[0;34m=\u001b[0m \u001b[0mnp\u001b[0m\u001b[0;34m.\u001b[0m\u001b[0mmeshgrid\u001b[0m\u001b[0;34m(\u001b[0m\u001b[0mnp\u001b[0m\u001b[0;34m.\u001b[0m\u001b[0marange\u001b[0m\u001b[0;34m(\u001b[0m\u001b[0mx_min\u001b[0m\u001b[0;34m,\u001b[0m \u001b[0mx_max\u001b[0m\u001b[0;34m,\u001b[0m \u001b[0mh\u001b[0m\u001b[0;34m)\u001b[0m\u001b[0;34m,\u001b[0m \u001b[0mnp\u001b[0m\u001b[0;34m.\u001b[0m\u001b[0marange\u001b[0m\u001b[0;34m(\u001b[0m\u001b[0my_min\u001b[0m\u001b[0;34m,\u001b[0m \u001b[0my_max\u001b[0m\u001b[0;34m,\u001b[0m \u001b[0mh\u001b[0m\u001b[0;34m)\u001b[0m\u001b[0;34m)\u001b[0m\u001b[0;34m\u001b[0m\u001b[0m\n\u001b[0m\u001b[1;32m      8\u001b[0m \u001b[0;34m\u001b[0m\u001b[0m\n\u001b[1;32m      9\u001b[0m \u001b[0;31m# Obtain labels for each point in mesh. Use last trained model.\u001b[0m\u001b[0;34m\u001b[0m\u001b[0;34m\u001b[0m\u001b[0m\n",
      "\u001b[0;32m/usr/local/lib/python3.6/site-packages/numpy/lib/function_base.py\u001b[0m in \u001b[0;36mmeshgrid\u001b[0;34m(*xi, **kwargs)\u001b[0m\n\u001b[1;32m   4696\u001b[0m \u001b[0;34m\u001b[0m\u001b[0m\n\u001b[1;32m   4697\u001b[0m     \u001b[0;32mif\u001b[0m \u001b[0mcopy_\u001b[0m\u001b[0;34m:\u001b[0m\u001b[0;34m\u001b[0m\u001b[0m\n\u001b[0;32m-> 4698\u001b[0;31m         \u001b[0moutput\u001b[0m \u001b[0;34m=\u001b[0m \u001b[0;34m[\u001b[0m\u001b[0mx\u001b[0m\u001b[0;34m.\u001b[0m\u001b[0mcopy\u001b[0m\u001b[0;34m(\u001b[0m\u001b[0;34m)\u001b[0m \u001b[0;32mfor\u001b[0m \u001b[0mx\u001b[0m \u001b[0;32min\u001b[0m \u001b[0moutput\u001b[0m\u001b[0;34m]\u001b[0m\u001b[0;34m\u001b[0m\u001b[0m\n\u001b[0m\u001b[1;32m   4699\u001b[0m \u001b[0;34m\u001b[0m\u001b[0m\n\u001b[1;32m   4700\u001b[0m     \u001b[0;32mreturn\u001b[0m \u001b[0moutput\u001b[0m\u001b[0;34m\u001b[0m\u001b[0m\n",
      "\u001b[0;32m/usr/local/lib/python3.6/site-packages/numpy/lib/function_base.py\u001b[0m in \u001b[0;36m<listcomp>\u001b[0;34m(.0)\u001b[0m\n\u001b[1;32m   4696\u001b[0m \u001b[0;34m\u001b[0m\u001b[0m\n\u001b[1;32m   4697\u001b[0m     \u001b[0;32mif\u001b[0m \u001b[0mcopy_\u001b[0m\u001b[0;34m:\u001b[0m\u001b[0;34m\u001b[0m\u001b[0m\n\u001b[0;32m-> 4698\u001b[0;31m         \u001b[0moutput\u001b[0m \u001b[0;34m=\u001b[0m \u001b[0;34m[\u001b[0m\u001b[0mx\u001b[0m\u001b[0;34m.\u001b[0m\u001b[0mcopy\u001b[0m\u001b[0;34m(\u001b[0m\u001b[0;34m)\u001b[0m \u001b[0;32mfor\u001b[0m \u001b[0mx\u001b[0m \u001b[0;32min\u001b[0m \u001b[0moutput\u001b[0m\u001b[0;34m]\u001b[0m\u001b[0;34m\u001b[0m\u001b[0m\n\u001b[0m\u001b[1;32m   4699\u001b[0m \u001b[0;34m\u001b[0m\u001b[0m\n\u001b[1;32m   4700\u001b[0m     \u001b[0;32mreturn\u001b[0m \u001b[0moutput\u001b[0m\u001b[0;34m\u001b[0m\u001b[0m\n",
      "\u001b[0;31mMemoryError\u001b[0m: "
     ]
    }
   ],
   "source": [
    "# Step size of the mesh. Decrease to increase the quality of the VQ.\n",
    "h = .02     # point in the mesh [x_min, x_max]x[y_min, y_max].\n",
    "\n",
    "# Plot the decision boundary. For that, we will assign a color to each\n",
    "x_min, x_max = reduced_data[:, 0].min() - 1, reduced_data[:, 0].max() + 1\n",
    "y_min, y_max = reduced_data[:, 1].min() - 1, reduced_data[:, 1].max() + 1\n",
    "xx, yy = np.meshgrid(np.arange(x_min, x_max, h), np.arange(y_min, y_max, h))\n",
    "\n",
    "# Obtain labels for each point in mesh. Use last trained model.\n",
    "Z = kmeans.predict(np.c_[xx.ravel(), yy.ravel()])\n",
    "\n",
    "# Put the result into a color plot\n",
    "Z = Z.reshape(xx.shape)\n",
    "plt.figure(1)\n",
    "plt.clf()\n",
    "plt.imshow(Z, interpolation='nearest',\n",
    "           extent=(xx.min(), xx.max(), yy.min(), yy.max()),\n",
    "           cmap=plt.cm.Paired,\n",
    "           aspect='auto', origin='lower')\n",
    "\n",
    "plt.plot(reduced_data[:, 0], reduced_data[:, 1], 'k.', markersize=2)\n",
    "# Plot the centroids as a white X\n",
    "centroids = kmeans.cluster_centers_\n",
    "plt.scatter(centroids[:, 0], centroids[:, 1],\n",
    "            marker='x', s=169, linewidths=3,\n",
    "            color='w', zorder=10)\n",
    "plt.title('K-means clustering on the digits dataset (PCA-reduced data)\\n'\n",
    "          'Centroids are marked with white cross')\n",
    "plt.xlim(x_min, x_max)\n",
    "plt.ylim(y_min, y_max)\n",
    "plt.xticks(())\n",
    "plt.yticks(())\n",
    "plt.show()"
   ]
  },
  {
   "cell_type": "code",
   "execution_count": null,
   "metadata": {},
   "outputs": [],
   "source": []
  },
  {
   "cell_type": "markdown",
   "metadata": {},
   "source": [
    "# Applying model"
   ]
  },
  {
   "cell_type": "code",
   "execution_count": null,
   "metadata": {},
   "outputs": [],
   "source": [
    "% time\n",
    "kmeans = KMeans(n_clusters=6, random_state=0).fit(data)"
   ]
  },
  {
   "cell_type": "code",
   "execution_count": null,
   "metadata": {},
   "outputs": [],
   "source": [
    "kmeans"
   ]
  },
  {
   "cell_type": "code",
   "execution_count": null,
   "metadata": {},
   "outputs": [],
   "source": [
    "% time\n",
    "\n",
    "kmeans = KMeans(n_clusters=clusters, random_state=random_s)\n",
    "kmeans.fit(data)\n",
    "y_kmeans = kmeans.predict(data)"
   ]
  },
  {
   "cell_type": "code",
   "execution_count": null,
   "metadata": {},
   "outputs": [],
   "source": [
    "centers = kmeans.cluster_centers_"
   ]
  },
  {
   "cell_type": "code",
   "execution_count": null,
   "metadata": {},
   "outputs": [],
   "source": [
    "plt.scatter(data.iloc[:, 0], data.iloc[:, 1], c=y_kmeans, s=50, cmap='viridis')\n",
    "plt.scatter(centers[:, 0], centers[:, 1], c='black', s=200, alpha=0.5)"
   ]
  },
  {
   "cell_type": "code",
   "execution_count": null,
   "metadata": {},
   "outputs": [],
   "source": [
    "import numpy as np\n",
    "from sklearn.decomposition import PCA\n",
    "pca = PCA(n_components=2)\n",
    "pca.fit(data)"
   ]
  },
  {
   "cell_type": "code",
   "execution_count": null,
   "metadata": {},
   "outputs": [],
   "source": []
  }
 ],
 "metadata": {
  "kernelspec": {
   "display_name": "Python 3",
   "language": "python",
   "name": "python3"
  },
  "language_info": {
   "codemirror_mode": {
    "name": "ipython",
    "version": 3
   },
   "file_extension": ".py",
   "mimetype": "text/x-python",
   "name": "python",
   "nbconvert_exporter": "python",
   "pygments_lexer": "ipython3",
   "version": "3.6.5"
  }
 },
 "nbformat": 4,
 "nbformat_minor": 2
}
